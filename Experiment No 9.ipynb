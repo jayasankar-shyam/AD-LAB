{
 "cells": [
  {
   "cell_type": "code",
   "execution_count": 24,
   "metadata": {},
   "outputs": [
    {
     "name": "stdout",
     "output_type": "stream",
     "text": [
      "Sepal Length & Petal Width of Iris Flower\n",
      "\n",
      "Covariance: 0.5163\n",
      "Correlation Coefficient:0.8179\n"
     ]
    }
   ],
   "source": [
    "from sklearn.datasets import load_iris\n",
    "import numpy as np\n",
    "import pandas as pd\n",
    "\n",
    "data = load_iris()\n",
    "df = pd.DataFrame(data=data.data, columns=data.feature_names)\n",
    "\n",
    "sepal_length = df.loc[:, \"sepal length (cm)\"]\n",
    "petal_width = df.loc[:, \"petal width (cm)\"]\n",
    "\n",
    "cov = np.cov(sepal_length, petal_width)[0][1]\n",
    "cor = np.corrcoef(sepal_length, petal_width)[0][1]\n",
    "print(f\"Sepal Length & Petal Width of Iris Flower\\n\\n\"\n",
    "      f\"Covariance: {cov:.4f}\\nCorrelation Coefficient:{cor:.4f}\")"
   ]
  },
  {
   "cell_type": "code",
   "execution_count": null,
   "metadata": {},
   "outputs": [],
   "source": []
  }
 ],
 "metadata": {
  "kernelspec": {
   "display_name": "Python 3",
   "language": "python",
   "name": "python3"
  },
  "language_info": {
   "codemirror_mode": {
    "name": "ipython",
    "version": 3
   },
   "file_extension": ".py",
   "mimetype": "text/x-python",
   "name": "python",
   "nbconvert_exporter": "python",
   "pygments_lexer": "ipython3",
   "version": "3.6.9"
  }
 },
 "nbformat": 4,
 "nbformat_minor": 2
}
