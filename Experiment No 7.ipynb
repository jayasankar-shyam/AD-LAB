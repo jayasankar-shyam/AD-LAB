{
 "cells": [
  {
   "cell_type": "code",
   "execution_count": 27,
   "metadata": {},
   "outputs": [
    {
     "name": "stdout",
     "output_type": "stream",
     "text": [
      "Predicted Values :  [1 0 0 1 1 0 0 0 1 1 1 0 1 0 1 0 1 1 1 0 1 1 0 1 1 1 1 1 1 0 1 1 1 1 1 1 0\n",
      " 1 0 1 1 0 1 1 1 1 1 1 1 1 0 0 1 1 1 1 1 0 0 1 1 0 0 1 1 1 0 0 1 1 0 0 1 0\n",
      " 1 1 1 1 1 1 0 1 1 0 0 0 0 0 1 1 1 1 1 1 1 1 0 0 1 0 0 1 0 0 1 1 1 0 1 1 0\n",
      " 1 1 0]\n",
      "\n",
      "Confusion matrix\n",
      " [[40  3]\n",
      " [ 0 71]]\n",
      "\n",
      "Accuracy = 0.97\n",
      "Precision = 1.00\n",
      "Recall = 0.93\n"
     ]
    }
   ],
   "source": [
    "from sklearn.datasets import load_breast_cancer\n",
    "from sklearn.metrics import confusion_matrix\n",
    "from sklearn.model_selection import train_test_split\n",
    "from sklearn.naive_bayes import GaussianNB\n",
    "\n",
    "cancer =load_breast_cancer()\n",
    "X,y = cancer.data,cancer.target\n",
    "X_train, X_test, y_train, y_test = train_test_split(X, y, \n",
    "                       test_size = 0.2, random_state = 42)\n",
    "\n",
    "nb = GaussianNB()\n",
    "nb.fit(X_train, y_train)\n",
    "\n",
    "y_pred = nb.predict(X_test)\n",
    "print(\"Predicted Values : \",y_pred)\n",
    "\n",
    "cm = confusion_matrix(y_test, y_pred)\n",
    "print('\\nConfusion matrix\\n', cm)\n",
    "\n",
    "TP,TN,FN,FP=  cm[0,0],cm[1,1],cm[0,1],cm[1,0]\n",
    "print(f\"\\nAccuracy = {float((TP+TN)/(TP+FN+TN+FP)):.2f}\")\n",
    "print(f\"Precision = {float(TP/(TP+FP)):.2f}\")\n",
    "print(f\"Recall = {float(TP/(TP+FN)):.2f}\")"
   ]
  }
 ],
 "metadata": {
  "kernelspec": {
   "display_name": "Python 3 (ipykernel)",
   "language": "python",
   "name": "python3"
  },
  "language_info": {
   "codemirror_mode": {
    "name": "ipython",
    "version": 3
   },
   "file_extension": ".py",
   "mimetype": "text/x-python",
   "name": "python",
   "nbconvert_exporter": "python",
   "pygments_lexer": "ipython3",
   "version": "3.9.13"
  }
 },
 "nbformat": 4,
 "nbformat_minor": 2
}
