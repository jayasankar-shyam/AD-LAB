{
 "cells": [
  {
   "cell_type": "markdown",
   "id": "fa29895c",
   "metadata": {},
   "source": [
    "# Experiment No : 1\n",
    " Implement a program to perform operations like mean,median,mode,sd,percentile and various data distributions"
   ]
  },
  {
   "cell_type": "code",
   "execution_count": 39,
   "id": "fd589181",
   "metadata": {},
   "outputs": [
    {
     "name": "stdout",
     "output_type": "stream",
     "text": [
      "Mean = 4.55\n",
      "Median = 4.0\n",
      "Mode = 3\n",
      "Standard Deviation = 2.43\n",
      "50th Percentile = 4.0\n"
     ]
    }
   ],
   "source": [
    "import statistics as st\n",
    "import numpy as np\n",
    "myList=[3,7,4,2,1,5,3,8,9,5,3]\n",
    "print(f\"Mean = {np.mean(myList):.2f}\")\n",
    "print(f\"Median = {np.median(myList)}\")\n",
    "print(f\"Mode = {st.mode(myList)}\")\n",
    "print(f\"Standard Deviation = {np.std(myList):.2f}\")\n",
    "print(f\"50th Percentile = {np.percentile(myList,50)}\")"
   ]
  }
 ],
 "metadata": {
  "kernelspec": {
   "display_name": "Python 3 (ipykernel)",
   "language": "python",
   "name": "python3"
  },
  "language_info": {
   "codemirror_mode": {
    "name": "ipython",
    "version": 3
   },
   "file_extension": ".py",
   "mimetype": "text/x-python",
   "name": "python",
   "nbconvert_exporter": "python",
   "pygments_lexer": "ipython3",
   "version": "3.10.6"
  }
 },
 "nbformat": 4,
 "nbformat_minor": 5
}
