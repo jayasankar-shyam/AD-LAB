{
 "cells": [
  {
   "cell_type": "markdown",
   "id": "8a3d9f7b",
   "metadata": {},
   "source": [
    "# Experiment No :2\n",
    "\n",
    "Review of python programming,matrix operations ,programs using matplotlib/plotly/bokeh/seaborn for data visualization and programs to handle data using pandas"
   ]
  },
  {
   "cell_type": "code",
   "execution_count": 24,
   "id": "94e202ac",
   "metadata": {},
   "outputs": [
    {
     "name": "stdout",
     "output_type": "stream",
     "text": [
      "Matrix 1:\n",
      " [[1 2 3]\n",
      " [4 5 6]\n",
      " [7 8 9]]\n",
      "Matrix 2:\n",
      " [[11 12 13]\n",
      " [14 15 16]\n",
      " [17 18 19]]\n",
      "Sum of 2 matrices : \n",
      " [[12 14 16]\n",
      " [18 20 22]\n",
      " [24 26 28]]\n",
      "Difference of 2 matrices : \n",
      " [[10 10 10]\n",
      " [10 10 10]\n",
      " [10 10 10]]\n",
      "Product of 2 matrices : \n",
      " [[ 90  96 102]\n",
      " [216 231 246]\n",
      " [342 366 390]]\n",
      "Dividing the 2 matrices : \n",
      " [[11.          6.          4.33333333]\n",
      " [ 3.5         3.          2.66666667]\n",
      " [ 2.42857143  2.25        2.11111111]]\n",
      "Transpose of matrix 1: \n",
      " [[1 4 7]\n",
      " [2 5 8]\n",
      " [3 6 9]]\n"
     ]
    }
   ],
   "source": [
    "import numpy as np\n",
    "mat1=np.arange(1,10).reshape(3,3)\n",
    "mat2=np.arange(11,20).reshape(3,3)\n",
    "print(\"Matrix 1:\\n\",mat1)\n",
    "print(\"Matrix 2:\\n\",mat2)\n",
    "print(\"Sum of 2 matrices : \\n\",np.add(mat1,mat2))\n",
    "print(\"Difference of 2 matrices : \\n\",np.subtract(mat2,mat1))\n",
    "print(\"Product of 2 matrices : \\n\",np.dot(mat1,mat2))\n",
    "print(\"Dividing the 2 matrices : \\n\",np.divide(mat2,mat1))\n",
    "print(\"Transpose of matrix 1: \\n\",np.transpose(mat1))"
   ]
  },
  {
   "cell_type": "code",
   "execution_count": null,
   "id": "66b9ed05",
   "metadata": {},
   "outputs": [],
   "source": []
  }
 ],
 "metadata": {
  "kernelspec": {
   "display_name": "Python 3 (ipykernel)",
   "language": "python",
   "name": "python3"
  },
  "language_info": {
   "codemirror_mode": {
    "name": "ipython",
    "version": 3
   },
   "file_extension": ".py",
   "mimetype": "text/x-python",
   "name": "python",
   "nbconvert_exporter": "python",
   "pygments_lexer": "ipython3",
   "version": "3.10.6"
  }
 },
 "nbformat": 4,
 "nbformat_minor": 5
}
